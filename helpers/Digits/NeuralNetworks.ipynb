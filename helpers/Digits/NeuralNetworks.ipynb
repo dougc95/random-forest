{
 "metadata": {
  "language_info": {
   "codemirror_mode": {
    "name": "ipython",
    "version": 3
   },
   "file_extension": ".py",
   "mimetype": "text/x-python",
   "name": "python",
   "nbconvert_exporter": "python",
   "pygments_lexer": "ipython3",
   "version": "3.9.4"
  },
  "orig_nbformat": 4,
  "kernelspec": {
   "name": "python3",
   "display_name": "Python 3.9.4 64-bit ('estadistica': conda)"
  },
  "interpreter": {
   "hash": "b5b3a4bfeddaaa90b132131789e15b691d7f5a493ef6d191c1179742cfa4c718"
  }
 },
 "nbformat": 4,
 "nbformat_minor": 2,
 "cells": [
  {
   "cell_type": "code",
   "execution_count": 1,
   "metadata": {},
   "outputs": [],
   "source": [
    "import sys\n",
    "sys.path.append(\"../\")\n",
    "\n",
    "import numpy as np \n",
    "import pandas as pd\n",
    "import DataLoader as dl\n",
    "\n",
    "import matplotlib.pyplot as plt\n",
    "from IPython.core.display import display, HTML\n",
    "\n",
    "from sklearn import metrics\n",
    "from sklearn.metrics import accuracy_score\n",
    "from sklearn.preprocessing import StandardScaler\n",
    "from sklearn.neural_network import MLPClassifier\n",
    "from sklearn.model_selection import train_test_split"
   ]
  },
  {
   "cell_type": "code",
   "execution_count": 2,
   "metadata": {},
   "outputs": [],
   "source": [
    "loader = dl.Data()\n",
    "digits = loader.loadData('Emnist', 'Digits')\n",
    "\n",
    "# Get x and y from data\n",
    "x = loader.getX(digits)\n",
    "y = loader.getY(digits)"
   ]
  },
  {
   "source": [
    "## Split the data"
   ],
   "cell_type": "markdown",
   "metadata": {}
  },
  {
   "cell_type": "code",
   "execution_count": 3,
   "metadata": {},
   "outputs": [],
   "source": [
    "x_train, x_test, y_train, y_test = train_test_split(x, y, test_size = 0.2, random_state = 0)"
   ]
  },
  {
   "source": [
    "## Preprocessing"
   ],
   "cell_type": "markdown",
   "metadata": {}
  },
  {
   "cell_type": "code",
   "execution_count": 5,
   "metadata": {},
   "outputs": [],
   "source": [
    "train_scaled = x_train/255\n",
    "test_scaled = x_test/255"
   ]
  },
  {
   "source": [
    "## Train the model"
   ],
   "cell_type": "markdown",
   "metadata": {}
  },
  {
   "cell_type": "code",
   "execution_count": 6,
   "metadata": {},
   "outputs": [
    {
     "output_type": "stream",
     "name": "stdout",
     "text": [
      "Iteration 1, loss = 0.25286929\n",
      "Iteration 2, loss = 0.19933275\n",
      "Iteration 3, loss = 0.18612934\n",
      "Iteration 4, loss = 0.17973914\n",
      "Iteration 5, loss = 0.17463755\n",
      "Iteration 6, loss = 0.17108720\n",
      "Iteration 7, loss = 0.16958334\n",
      "Iteration 8, loss = 0.16820601\n",
      "Iteration 9, loss = 0.16659235\n",
      "Iteration 10, loss = 0.16581805\n",
      "Iteration 11, loss = 0.16490688\n",
      "Iteration 12, loss = 0.16474393\n",
      "Iteration 13, loss = 0.16401059\n",
      "Iteration 14, loss = 0.16381503\n",
      "Iteration 15, loss = 0.16296027\n",
      "Iteration 16, loss = 0.16228638\n",
      "Iteration 17, loss = 0.16236476\n",
      "Iteration 18, loss = 0.16145847\n",
      "Iteration 19, loss = 0.16107177\n",
      "Iteration 20, loss = 0.16131658\n",
      "Iteration 21, loss = 0.16162095\n",
      "Iteration 22, loss = 0.16063958\n",
      "Iteration 23, loss = 0.16049853\n",
      "Iteration 24, loss = 0.16073659\n",
      "Iteration 25, loss = 0.15978093\n",
      "Iteration 26, loss = 0.16024329\n",
      "Iteration 27, loss = 0.15970416\n",
      "Iteration 28, loss = 0.15945647\n",
      "Iteration 29, loss = 0.15947565\n",
      "Iteration 30, loss = 0.15944735\n",
      "Iteration 31, loss = 0.15949207\n",
      "Iteration 32, loss = 0.15917223\n",
      "Iteration 33, loss = 0.15859053\n",
      "Iteration 34, loss = 0.15917377\n",
      "Iteration 35, loss = 0.15876733\n",
      "Iteration 36, loss = 0.15845302\n",
      "Iteration 37, loss = 0.15763988\n",
      "Iteration 38, loss = 0.15741885\n",
      "Iteration 39, loss = 0.15829046\n",
      "Iteration 40, loss = 0.15765415\n",
      "Iteration 41, loss = 0.15725876\n",
      "Iteration 42, loss = 0.15582941\n",
      "Iteration 43, loss = 0.15520799\n",
      "Iteration 44, loss = 0.15499610\n",
      "Iteration 45, loss = 0.15404233\n",
      "Iteration 46, loss = 0.15389215\n",
      "Iteration 47, loss = 0.15364811\n",
      "Iteration 48, loss = 0.15337687\n",
      "Iteration 49, loss = 0.15351492\n",
      "Iteration 50, loss = 0.15191245\n",
      "Iteration 51, loss = 0.15225386\n",
      "Iteration 52, loss = 0.15248144\n",
      "Iteration 53, loss = 0.15184796\n",
      "Iteration 54, loss = 0.15141748\n",
      "Iteration 55, loss = 0.15119909\n",
      "Iteration 56, loss = 0.15159619\n",
      "Iteration 57, loss = 0.15085070\n",
      "Iteration 58, loss = 0.15052912\n",
      "Iteration 59, loss = 0.15084830\n",
      "Iteration 60, loss = 0.15023156\n",
      "Iteration 61, loss = 0.14992638\n",
      "Iteration 62, loss = 0.15056609\n",
      "Iteration 63, loss = 0.14985486\n",
      "Iteration 64, loss = 0.15042493\n",
      "Iteration 65, loss = 0.14981646\n",
      "Iteration 66, loss = 0.15030663\n",
      "Iteration 67, loss = 0.14996595\n",
      "Iteration 68, loss = 0.14981291\n",
      "Iteration 69, loss = 0.14978567\n",
      "Iteration 70, loss = 0.14952715\n",
      "Iteration 71, loss = 0.14935946\n",
      "Iteration 72, loss = 0.14961244\n",
      "Iteration 73, loss = 0.14944566\n",
      "Iteration 74, loss = 0.14909316\n",
      "Iteration 75, loss = 0.14948846\n",
      "Iteration 76, loss = 0.14903375\n",
      "Iteration 77, loss = 0.14926747\n",
      "Iteration 78, loss = 0.14902683\n",
      "Iteration 79, loss = 0.14902667\n",
      "Iteration 80, loss = 0.14850836\n",
      "Iteration 81, loss = 0.14922130\n",
      "Iteration 82, loss = 0.14861965\n",
      "Iteration 83, loss = 0.14805899\n",
      "Iteration 84, loss = 0.14950006\n",
      "Iteration 85, loss = 0.14853090\n",
      "Iteration 86, loss = 0.14859732\n",
      "Iteration 87, loss = 0.14811992\n",
      "Iteration 88, loss = 0.14830515\n",
      "Iteration 89, loss = 0.14844335\n",
      "Iteration 90, loss = 0.14859483\n",
      "Iteration 91, loss = 0.14858264\n",
      "Iteration 92, loss = 0.14766558\n",
      "Iteration 93, loss = 0.14815151\n",
      "Iteration 94, loss = 0.14837912\n",
      "Iteration 95, loss = 0.14809133\n",
      "Iteration 96, loss = 0.14808309\n",
      "Iteration 97, loss = 0.14854350\n",
      "Iteration 98, loss = 0.14838483\n",
      "Iteration 99, loss = 0.14795163\n",
      "Iteration 100, loss = 0.14840579\n",
      "Iteration 101, loss = 0.14828534\n",
      "Iteration 102, loss = 0.14826577\n",
      "Iteration 103, loss = 0.14773886\n",
      "Training loss did not improve more than tol=0.000100 for 10 consecutive epochs. Stopping.\n"
     ]
    },
    {
     "output_type": "execute_result",
     "data": {
      "text/plain": [
       "MLPClassifier(hidden_layer_sizes=(10,), learning_rate_init=0.1, random_state=1,\n",
       "              solver='sgd', verbose=10)"
      ]
     },
     "metadata": {},
     "execution_count": 6
    }
   ],
   "source": [
    "import warnings\n",
    "from sklearn.exceptions import ConvergenceWarning\n",
    "\n",
    "mlp_1 = MLPClassifier(hidden_layer_sizes=(10,), alpha=1e-4,\n",
    "                    solver='sgd', verbose=10, random_state=1,\n",
    "                    learning_rate_init=.1)\n",
    "\n",
    "with warnings.catch_warnings():\n",
    "    warnings.filterwarnings(\"ignore\", category=ConvergenceWarning,\n",
    "                            module=\"sklearn\")\n",
    "\n",
    "mlp_1.fit(train_scaled, y_train)"
   ]
  },
  {
   "source": [
    "## Validation"
   ],
   "cell_type": "markdown",
   "metadata": {}
  },
  {
   "cell_type": "code",
   "execution_count": 7,
   "metadata": {},
   "outputs": [
    {
     "output_type": "display_data",
     "data": {
      "text/plain": "<IPython.core.display.HTML object>",
      "text/html": "<h2>Accuracy Score: 0.9547468079562234</h2>"
     },
     "metadata": {}
    }
   ],
   "source": [
    "pred = mlp_1.predict(test_scaled)\n",
    "display(HTML(f'<h2>Accuracy Score: {accuracy_score(y_test, pred)}</h2>'))"
   ]
  },
  {
   "cell_type": "code",
   "execution_count": 8,
   "metadata": {},
   "outputs": [],
   "source": [
    "import time\n",
    "\n",
    "progress = []\n",
    "size = x_test.shape[0]\n",
    "\n",
    "for i in range(1, size):\n",
    "    start = time.time()\n",
    "    mlp_1.predict(x_test[[i]])\n",
    "    end = time.time()\n",
    "    progress.append(end - start)"
   ]
  },
  {
   "cell_type": "code",
   "execution_count": 9,
   "metadata": {},
   "outputs": [
    {
     "output_type": "display_data",
     "data": {
      "text/plain": "<IPython.core.display.HTML object>",
      "text/html": "<h2>Prediction Mean time: 0.08754348885053026 ms</h2>"
     },
     "metadata": {}
    }
   ],
   "source": [
    "mean = np.array(progress)\n",
    "mean = np.mean(mean)\n",
    "display(HTML(f'<h2>Prediction Mean time: {mean*1000} ms</h2>'))"
   ]
  },
  {
   "cell_type": "code",
   "execution_count": null,
   "metadata": {},
   "outputs": [],
   "source": []
  }
 ]
}